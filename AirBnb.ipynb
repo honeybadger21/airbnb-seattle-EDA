{
 "cells": [
  {
   "cell_type": "markdown",
   "metadata": {},
   "source": [
    "## Seattle AirBnb Analysis\n",
    "\n",
    "Let's go way north of Austin, right upto Seattle for our data science programming project. But we still love Austin more. It's just that we could scruitinze Seattle better. So, we're picking up this open dataset from kaggle. As we go through our analysis, we would be focusing on Project Context, Data Overview, the legendary EDA for answering some intriguing questions, and finally doing a quick modelling step before concluding. Stay tuned, Y'all. "
   ]
  },
  {
   "cell_type": "code",
   "execution_count": 1,
   "metadata": {},
   "outputs": [
    {
     "data": {
      "text/html": [
       "<style type='text/css'>\n",
       ".CodeMirror{\n",
       "font-size: 12px;\n",
       "</style>\n"
      ],
      "text/plain": [
       "<IPython.core.display.HTML object>"
      ]
     },
     "metadata": {},
     "output_type": "display_data"
    }
   ],
   "source": [
    "%%html\n",
    "<style type='text/css'>\n",
    ".CodeMirror{\n",
    "font-size: 12px;\n",
    "</style>"
   ]
  },
  {
   "cell_type": "code",
   "execution_count": 2,
   "metadata": {},
   "outputs": [
    {
     "name": "stdout",
     "output_type": "stream",
     "text": [
      "Populating the interactive namespace from numpy and matplotlib\n"
     ]
    }
   ],
   "source": [
    "# loading the required libraries\n",
    "\n",
    "import pandas as pd\n",
    "import matplotlib.pyplot\n",
    "import seaborn as sns\n",
    "%pylab inline"
   ]
  },
  {
   "cell_type": "markdown",
   "metadata": {},
   "source": [
    "## Data Overview\n",
    "\n",
    "Looking at the csv file to understand the data and thinking of questions that the data can answer. "
   ]
  },
  {
   "cell_type": "code",
   "execution_count": 3,
   "metadata": {},
   "outputs": [
    {
     "data": {
      "text/plain": [
       "(3818, 92)"
      ]
     },
     "execution_count": 3,
     "metadata": {},
     "output_type": "execute_result"
    }
   ],
   "source": [
    "# reading the data \n",
    "\n",
    "df = pd.read_csv('listings.csv')\n",
    "df.shape"
   ]
  },
  {
   "cell_type": "code",
   "execution_count": 4,
   "metadata": {
    "scrolled": true
   },
   "outputs": [
    {
     "data": {
      "text/html": [
       "<div>\n",
       "<style scoped>\n",
       "    .dataframe tbody tr th:only-of-type {\n",
       "        vertical-align: middle;\n",
       "    }\n",
       "\n",
       "    .dataframe tbody tr th {\n",
       "        vertical-align: top;\n",
       "    }\n",
       "\n",
       "    .dataframe thead th {\n",
       "        text-align: right;\n",
       "    }\n",
       "</style>\n",
       "<table border=\"1\" class=\"dataframe\">\n",
       "  <thead>\n",
       "    <tr style=\"text-align: right;\">\n",
       "      <th></th>\n",
       "      <th>id</th>\n",
       "      <th>listing_url</th>\n",
       "      <th>scrape_id</th>\n",
       "      <th>last_scraped</th>\n",
       "      <th>name</th>\n",
       "      <th>summary</th>\n",
       "      <th>space</th>\n",
       "      <th>description</th>\n",
       "      <th>experiences_offered</th>\n",
       "      <th>neighborhood_overview</th>\n",
       "      <th>...</th>\n",
       "      <th>review_scores_value</th>\n",
       "      <th>requires_license</th>\n",
       "      <th>license</th>\n",
       "      <th>jurisdiction_names</th>\n",
       "      <th>instant_bookable</th>\n",
       "      <th>cancellation_policy</th>\n",
       "      <th>require_guest_profile_picture</th>\n",
       "      <th>require_guest_phone_verification</th>\n",
       "      <th>calculated_host_listings_count</th>\n",
       "      <th>reviews_per_month</th>\n",
       "    </tr>\n",
       "  </thead>\n",
       "  <tbody>\n",
       "    <tr>\n",
       "      <th>0</th>\n",
       "      <td>241032</td>\n",
       "      <td>https://www.airbnb.com/rooms/241032</td>\n",
       "      <td>20160104002432</td>\n",
       "      <td>2016-01-04</td>\n",
       "      <td>Stylish Queen Anne Apartment</td>\n",
       "      <td>NaN</td>\n",
       "      <td>Make your self at home in this charming one-be...</td>\n",
       "      <td>Make your self at home in this charming one-be...</td>\n",
       "      <td>none</td>\n",
       "      <td>NaN</td>\n",
       "      <td>...</td>\n",
       "      <td>10.0</td>\n",
       "      <td>f</td>\n",
       "      <td>NaN</td>\n",
       "      <td>WASHINGTON</td>\n",
       "      <td>f</td>\n",
       "      <td>moderate</td>\n",
       "      <td>f</td>\n",
       "      <td>f</td>\n",
       "      <td>2</td>\n",
       "      <td>4.07</td>\n",
       "    </tr>\n",
       "    <tr>\n",
       "      <th>1</th>\n",
       "      <td>953595</td>\n",
       "      <td>https://www.airbnb.com/rooms/953595</td>\n",
       "      <td>20160104002432</td>\n",
       "      <td>2016-01-04</td>\n",
       "      <td>Bright &amp; Airy Queen Anne Apartment</td>\n",
       "      <td>Chemically sensitive? We've removed the irrita...</td>\n",
       "      <td>Beautiful, hypoallergenic apartment in an extr...</td>\n",
       "      <td>Chemically sensitive? We've removed the irrita...</td>\n",
       "      <td>none</td>\n",
       "      <td>Queen Anne is a wonderful, truly functional vi...</td>\n",
       "      <td>...</td>\n",
       "      <td>10.0</td>\n",
       "      <td>f</td>\n",
       "      <td>NaN</td>\n",
       "      <td>WASHINGTON</td>\n",
       "      <td>f</td>\n",
       "      <td>strict</td>\n",
       "      <td>t</td>\n",
       "      <td>t</td>\n",
       "      <td>6</td>\n",
       "      <td>1.48</td>\n",
       "    </tr>\n",
       "    <tr>\n",
       "      <th>2</th>\n",
       "      <td>3308979</td>\n",
       "      <td>https://www.airbnb.com/rooms/3308979</td>\n",
       "      <td>20160104002432</td>\n",
       "      <td>2016-01-04</td>\n",
       "      <td>New Modern House-Amazing water view</td>\n",
       "      <td>New modern house built in 2013.  Spectacular s...</td>\n",
       "      <td>Our house is modern, light and fresh with a wa...</td>\n",
       "      <td>New modern house built in 2013.  Spectacular s...</td>\n",
       "      <td>none</td>\n",
       "      <td>Upper Queen Anne is a charming neighborhood fu...</td>\n",
       "      <td>...</td>\n",
       "      <td>10.0</td>\n",
       "      <td>f</td>\n",
       "      <td>NaN</td>\n",
       "      <td>WASHINGTON</td>\n",
       "      <td>f</td>\n",
       "      <td>strict</td>\n",
       "      <td>f</td>\n",
       "      <td>f</td>\n",
       "      <td>2</td>\n",
       "      <td>1.15</td>\n",
       "    </tr>\n",
       "    <tr>\n",
       "      <th>3</th>\n",
       "      <td>7421966</td>\n",
       "      <td>https://www.airbnb.com/rooms/7421966</td>\n",
       "      <td>20160104002432</td>\n",
       "      <td>2016-01-04</td>\n",
       "      <td>Queen Anne Chateau</td>\n",
       "      <td>A charming apartment that sits atop Queen Anne...</td>\n",
       "      <td>NaN</td>\n",
       "      <td>A charming apartment that sits atop Queen Anne...</td>\n",
       "      <td>none</td>\n",
       "      <td>NaN</td>\n",
       "      <td>...</td>\n",
       "      <td>NaN</td>\n",
       "      <td>f</td>\n",
       "      <td>NaN</td>\n",
       "      <td>WASHINGTON</td>\n",
       "      <td>f</td>\n",
       "      <td>flexible</td>\n",
       "      <td>f</td>\n",
       "      <td>f</td>\n",
       "      <td>1</td>\n",
       "      <td>NaN</td>\n",
       "    </tr>\n",
       "    <tr>\n",
       "      <th>4</th>\n",
       "      <td>278830</td>\n",
       "      <td>https://www.airbnb.com/rooms/278830</td>\n",
       "      <td>20160104002432</td>\n",
       "      <td>2016-01-04</td>\n",
       "      <td>Charming craftsman 3 bdm house</td>\n",
       "      <td>Cozy family craftman house in beautiful neighb...</td>\n",
       "      <td>Cozy family craftman house in beautiful neighb...</td>\n",
       "      <td>Cozy family craftman house in beautiful neighb...</td>\n",
       "      <td>none</td>\n",
       "      <td>We are in the beautiful neighborhood of Queen ...</td>\n",
       "      <td>...</td>\n",
       "      <td>9.0</td>\n",
       "      <td>f</td>\n",
       "      <td>NaN</td>\n",
       "      <td>WASHINGTON</td>\n",
       "      <td>f</td>\n",
       "      <td>strict</td>\n",
       "      <td>f</td>\n",
       "      <td>f</td>\n",
       "      <td>1</td>\n",
       "      <td>0.89</td>\n",
       "    </tr>\n",
       "    <tr>\n",
       "      <th>5</th>\n",
       "      <td>5956968</td>\n",
       "      <td>https://www.airbnb.com/rooms/5956968</td>\n",
       "      <td>20160104002432</td>\n",
       "      <td>2016-01-04</td>\n",
       "      <td>Private unit in a 1920s mansion</td>\n",
       "      <td>We're renting out a small private unit of one ...</td>\n",
       "      <td>If you include a bit of your background in you...</td>\n",
       "      <td>We're renting out a small private unit of one ...</td>\n",
       "      <td>none</td>\n",
       "      <td>This part of Queen Anne has wonderful views an...</td>\n",
       "      <td>...</td>\n",
       "      <td>10.0</td>\n",
       "      <td>f</td>\n",
       "      <td>NaN</td>\n",
       "      <td>WASHINGTON</td>\n",
       "      <td>f</td>\n",
       "      <td>strict</td>\n",
       "      <td>f</td>\n",
       "      <td>f</td>\n",
       "      <td>1</td>\n",
       "      <td>2.45</td>\n",
       "    </tr>\n",
       "    <tr>\n",
       "      <th>6</th>\n",
       "      <td>1909058</td>\n",
       "      <td>https://www.airbnb.com/rooms/1909058</td>\n",
       "      <td>20160104002432</td>\n",
       "      <td>2016-01-04</td>\n",
       "      <td>Queen Anne Private Bed and Bath</td>\n",
       "      <td>Enjoy a quiet stay in our comfortable 1915 Cra...</td>\n",
       "      <td>Enjoy a quiet stay in our comfortable 1915 Cra...</td>\n",
       "      <td>Enjoy a quiet stay in our comfortable 1915 Cra...</td>\n",
       "      <td>none</td>\n",
       "      <td>Close restaurants, coffee shops and grocery st...</td>\n",
       "      <td>...</td>\n",
       "      <td>10.0</td>\n",
       "      <td>f</td>\n",
       "      <td>NaN</td>\n",
       "      <td>WASHINGTON</td>\n",
       "      <td>f</td>\n",
       "      <td>moderate</td>\n",
       "      <td>f</td>\n",
       "      <td>f</td>\n",
       "      <td>1</td>\n",
       "      <td>2.46</td>\n",
       "    </tr>\n",
       "    <tr>\n",
       "      <th>7</th>\n",
       "      <td>856550</td>\n",
       "      <td>https://www.airbnb.com/rooms/856550</td>\n",
       "      <td>20160104002432</td>\n",
       "      <td>2016-01-04</td>\n",
       "      <td>Tiny Garden cabin on Queen Anne</td>\n",
       "      <td>Our tiny cabin is private , very quiet and com...</td>\n",
       "      <td>This cabin was built with Airbnb in mind, Que...</td>\n",
       "      <td>Our tiny cabin is private , very quiet and com...</td>\n",
       "      <td>none</td>\n",
       "      <td>We are centrally located between Downtown and ...</td>\n",
       "      <td>...</td>\n",
       "      <td>10.0</td>\n",
       "      <td>f</td>\n",
       "      <td>NaN</td>\n",
       "      <td>WASHINGTON</td>\n",
       "      <td>f</td>\n",
       "      <td>strict</td>\n",
       "      <td>t</td>\n",
       "      <td>t</td>\n",
       "      <td>5</td>\n",
       "      <td>4.73</td>\n",
       "    </tr>\n",
       "    <tr>\n",
       "      <th>8</th>\n",
       "      <td>4948745</td>\n",
       "      <td>https://www.airbnb.com/rooms/4948745</td>\n",
       "      <td>20160104002432</td>\n",
       "      <td>2016-01-04</td>\n",
       "      <td>Urban Charm || Downtown || Views</td>\n",
       "      <td>Nestled in the heart of the city, this space i...</td>\n",
       "      <td>Located in the heart of the city, this space i...</td>\n",
       "      <td>Nestled in the heart of the city, this space i...</td>\n",
       "      <td>none</td>\n",
       "      <td>Walking Score: 92 4 blocks from Kerry Park Fam...</td>\n",
       "      <td>...</td>\n",
       "      <td>10.0</td>\n",
       "      <td>f</td>\n",
       "      <td>NaN</td>\n",
       "      <td>WASHINGTON</td>\n",
       "      <td>f</td>\n",
       "      <td>strict</td>\n",
       "      <td>f</td>\n",
       "      <td>f</td>\n",
       "      <td>1</td>\n",
       "      <td>1.22</td>\n",
       "    </tr>\n",
       "    <tr>\n",
       "      <th>9</th>\n",
       "      <td>2493658</td>\n",
       "      <td>https://www.airbnb.com/rooms/2493658</td>\n",
       "      <td>20160104002432</td>\n",
       "      <td>2016-01-04</td>\n",
       "      <td>Airy + Bright Queen Anne Apartment</td>\n",
       "      <td>Beautiful apartment in an extremely safe, quie...</td>\n",
       "      <td>What's special about this place? A beautiful r...</td>\n",
       "      <td>Beautiful apartment in an extremely safe, quie...</td>\n",
       "      <td>none</td>\n",
       "      <td>Queen Anne is a wonderful, truly functional vi...</td>\n",
       "      <td>...</td>\n",
       "      <td>9.0</td>\n",
       "      <td>f</td>\n",
       "      <td>NaN</td>\n",
       "      <td>WASHINGTON</td>\n",
       "      <td>f</td>\n",
       "      <td>strict</td>\n",
       "      <td>t</td>\n",
       "      <td>t</td>\n",
       "      <td>6</td>\n",
       "      <td>1.55</td>\n",
       "    </tr>\n",
       "  </tbody>\n",
       "</table>\n",
       "<p>10 rows × 92 columns</p>\n",
       "</div>"
      ],
      "text/plain": [
       "        id                           listing_url       scrape_id last_scraped  \\\n",
       "0   241032   https://www.airbnb.com/rooms/241032  20160104002432   2016-01-04   \n",
       "1   953595   https://www.airbnb.com/rooms/953595  20160104002432   2016-01-04   \n",
       "2  3308979  https://www.airbnb.com/rooms/3308979  20160104002432   2016-01-04   \n",
       "3  7421966  https://www.airbnb.com/rooms/7421966  20160104002432   2016-01-04   \n",
       "4   278830   https://www.airbnb.com/rooms/278830  20160104002432   2016-01-04   \n",
       "5  5956968  https://www.airbnb.com/rooms/5956968  20160104002432   2016-01-04   \n",
       "6  1909058  https://www.airbnb.com/rooms/1909058  20160104002432   2016-01-04   \n",
       "7   856550   https://www.airbnb.com/rooms/856550  20160104002432   2016-01-04   \n",
       "8  4948745  https://www.airbnb.com/rooms/4948745  20160104002432   2016-01-04   \n",
       "9  2493658  https://www.airbnb.com/rooms/2493658  20160104002432   2016-01-04   \n",
       "\n",
       "                                  name  \\\n",
       "0         Stylish Queen Anne Apartment   \n",
       "1   Bright & Airy Queen Anne Apartment   \n",
       "2  New Modern House-Amazing water view   \n",
       "3                   Queen Anne Chateau   \n",
       "4       Charming craftsman 3 bdm house   \n",
       "5      Private unit in a 1920s mansion   \n",
       "6      Queen Anne Private Bed and Bath   \n",
       "7    Tiny Garden cabin on Queen Anne     \n",
       "8     Urban Charm || Downtown || Views   \n",
       "9   Airy + Bright Queen Anne Apartment   \n",
       "\n",
       "                                             summary  \\\n",
       "0                                                NaN   \n",
       "1  Chemically sensitive? We've removed the irrita...   \n",
       "2  New modern house built in 2013.  Spectacular s...   \n",
       "3  A charming apartment that sits atop Queen Anne...   \n",
       "4  Cozy family craftman house in beautiful neighb...   \n",
       "5  We're renting out a small private unit of one ...   \n",
       "6  Enjoy a quiet stay in our comfortable 1915 Cra...   \n",
       "7  Our tiny cabin is private , very quiet and com...   \n",
       "8  Nestled in the heart of the city, this space i...   \n",
       "9  Beautiful apartment in an extremely safe, quie...   \n",
       "\n",
       "                                               space  \\\n",
       "0  Make your self at home in this charming one-be...   \n",
       "1  Beautiful, hypoallergenic apartment in an extr...   \n",
       "2  Our house is modern, light and fresh with a wa...   \n",
       "3                                                NaN   \n",
       "4  Cozy family craftman house in beautiful neighb...   \n",
       "5  If you include a bit of your background in you...   \n",
       "6  Enjoy a quiet stay in our comfortable 1915 Cra...   \n",
       "7   This cabin was built with Airbnb in mind, Que...   \n",
       "8  Located in the heart of the city, this space i...   \n",
       "9  What's special about this place? A beautiful r...   \n",
       "\n",
       "                                         description experiences_offered  \\\n",
       "0  Make your self at home in this charming one-be...                none   \n",
       "1  Chemically sensitive? We've removed the irrita...                none   \n",
       "2  New modern house built in 2013.  Spectacular s...                none   \n",
       "3  A charming apartment that sits atop Queen Anne...                none   \n",
       "4  Cozy family craftman house in beautiful neighb...                none   \n",
       "5  We're renting out a small private unit of one ...                none   \n",
       "6  Enjoy a quiet stay in our comfortable 1915 Cra...                none   \n",
       "7  Our tiny cabin is private , very quiet and com...                none   \n",
       "8  Nestled in the heart of the city, this space i...                none   \n",
       "9  Beautiful apartment in an extremely safe, quie...                none   \n",
       "\n",
       "                               neighborhood_overview  ... review_scores_value  \\\n",
       "0                                                NaN  ...                10.0   \n",
       "1  Queen Anne is a wonderful, truly functional vi...  ...                10.0   \n",
       "2  Upper Queen Anne is a charming neighborhood fu...  ...                10.0   \n",
       "3                                                NaN  ...                 NaN   \n",
       "4  We are in the beautiful neighborhood of Queen ...  ...                 9.0   \n",
       "5  This part of Queen Anne has wonderful views an...  ...                10.0   \n",
       "6  Close restaurants, coffee shops and grocery st...  ...                10.0   \n",
       "7  We are centrally located between Downtown and ...  ...                10.0   \n",
       "8  Walking Score: 92 4 blocks from Kerry Park Fam...  ...                10.0   \n",
       "9  Queen Anne is a wonderful, truly functional vi...  ...                 9.0   \n",
       "\n",
       "  requires_license license jurisdiction_names instant_bookable  \\\n",
       "0                f     NaN         WASHINGTON                f   \n",
       "1                f     NaN         WASHINGTON                f   \n",
       "2                f     NaN         WASHINGTON                f   \n",
       "3                f     NaN         WASHINGTON                f   \n",
       "4                f     NaN         WASHINGTON                f   \n",
       "5                f     NaN         WASHINGTON                f   \n",
       "6                f     NaN         WASHINGTON                f   \n",
       "7                f     NaN         WASHINGTON                f   \n",
       "8                f     NaN         WASHINGTON                f   \n",
       "9                f     NaN         WASHINGTON                f   \n",
       "\n",
       "  cancellation_policy  require_guest_profile_picture  \\\n",
       "0            moderate                              f   \n",
       "1              strict                              t   \n",
       "2              strict                              f   \n",
       "3            flexible                              f   \n",
       "4              strict                              f   \n",
       "5              strict                              f   \n",
       "6            moderate                              f   \n",
       "7              strict                              t   \n",
       "8              strict                              f   \n",
       "9              strict                              t   \n",
       "\n",
       "  require_guest_phone_verification calculated_host_listings_count  \\\n",
       "0                                f                              2   \n",
       "1                                t                              6   \n",
       "2                                f                              2   \n",
       "3                                f                              1   \n",
       "4                                f                              1   \n",
       "5                                f                              1   \n",
       "6                                f                              1   \n",
       "7                                t                              5   \n",
       "8                                f                              1   \n",
       "9                                t                              6   \n",
       "\n",
       "  reviews_per_month  \n",
       "0              4.07  \n",
       "1              1.48  \n",
       "2              1.15  \n",
       "3               NaN  \n",
       "4              0.89  \n",
       "5              2.45  \n",
       "6              2.46  \n",
       "7              4.73  \n",
       "8              1.22  \n",
       "9              1.55  \n",
       "\n",
       "[10 rows x 92 columns]"
      ]
     },
     "execution_count": 4,
     "metadata": {},
     "output_type": "execute_result"
    }
   ],
   "source": [
    "df.head(10)"
   ]
  },
  {
   "cell_type": "markdown",
   "metadata": {},
   "source": [
    "Clearly the data is has a large feature space. So, we need to look through the columns and see which one's are just variations of each other or the one's which are not relevant to our analysis. \n",
    "\n",
    "Further, looking at the data points available, we are interested to look through the following questions: \n",
    "\n",
    "    1. What are the top 10 neighborhoods in Seattle with most number of hosts and super hosts?\n",
    "    2. What are top 10 neighborhoods with highest and lowest avg. listing price?\n",
    "    3. What is the % breakdown of property types in Seattle in the listings database?\n",
    "    4. What % of listings are for entire place compared to private or share rooms in listings database?\n",
    "    5. Are the number of hosts increasing every year in Seattle?\n",
    "    \n",
    "So, here onwards we pick out the columns relevant to our analysis, and convert the variables to required datatype (for example, dollar value are stored as string but for analysis we need them as integers). Also, we will be removing the null values.\n",
    "\n",
    "This is just a starting step, as we explore the data more, we expect to discover more redundant features which we will keep dropping on the way. Or, discover some questions and patterns that seem interesting. \n",
    "\n",
    "P.S. Since the data was too huge to see it clearly in pandas dataframe, we looked at the original csv to understand what values are taken by different column names. "
   ]
  },
  {
   "cell_type": "code",
   "execution_count": 5,
   "metadata": {},
   "outputs": [
    {
     "data": {
      "text/plain": [
       "object     62\n",
       "float64    17\n",
       "int64      13\n",
       "dtype: int64"
      ]
     },
     "execution_count": 5,
     "metadata": {},
     "output_type": "execute_result"
    }
   ],
   "source": [
    "# looking at data types\n",
    "\n",
    "df.dtypes.value_counts()"
   ]
  },
  {
   "cell_type": "code",
   "execution_count": 6,
   "metadata": {
    "scrolled": true
   },
   "outputs": [
    {
     "data": {
      "text/plain": [
       "Index(['id', 'listing_url', 'scrape_id', 'last_scraped', 'name', 'summary',\n",
       "       'space', 'description', 'experiences_offered', 'neighborhood_overview',\n",
       "       'notes', 'transit', 'thumbnail_url', 'medium_url', 'picture_url',\n",
       "       'xl_picture_url', 'host_id', 'host_url', 'host_name', 'host_since',\n",
       "       'host_location', 'host_about', 'host_response_time',\n",
       "       'host_response_rate', 'host_acceptance_rate', 'host_is_superhost',\n",
       "       'host_thumbnail_url', 'host_picture_url', 'host_neighbourhood',\n",
       "       'host_listings_count', 'host_total_listings_count',\n",
       "       'host_verifications', 'host_has_profile_pic', 'host_identity_verified',\n",
       "       'street', 'neighbourhood', 'neighbourhood_cleansed',\n",
       "       'neighbourhood_group_cleansed', 'city', 'state', 'zipcode', 'market',\n",
       "       'smart_location', 'country_code', 'country', 'latitude', 'longitude',\n",
       "       'is_location_exact', 'property_type', 'room_type', 'accommodates',\n",
       "       'bathrooms', 'bedrooms', 'beds', 'bed_type', 'amenities', 'square_feet',\n",
       "       'price', 'weekly_price', 'monthly_price', 'security_deposit',\n",
       "       'cleaning_fee', 'guests_included', 'extra_people', 'minimum_nights',\n",
       "       'maximum_nights', 'calendar_updated', 'has_availability',\n",
       "       'availability_30', 'availability_60', 'availability_90',\n",
       "       'availability_365', 'calendar_last_scraped', 'number_of_reviews',\n",
       "       'first_review', 'last_review', 'review_scores_rating',\n",
       "       'review_scores_accuracy', 'review_scores_cleanliness',\n",
       "       'review_scores_checkin', 'review_scores_communication',\n",
       "       'review_scores_location', 'review_scores_value', 'requires_license',\n",
       "       'license', 'jurisdiction_names', 'instant_bookable',\n",
       "       'cancellation_policy', 'require_guest_profile_picture',\n",
       "       'require_guest_phone_verification', 'calculated_host_listings_count',\n",
       "       'reviews_per_month'],\n",
       "      dtype='object')"
      ]
     },
     "execution_count": 6,
     "metadata": {},
     "output_type": "execute_result"
    }
   ],
   "source": [
    "# loading column names\n",
    "\n",
    "df.columns"
   ]
  },
  {
   "cell_type": "markdown",
   "metadata": {},
   "source": [
    "## Data Cleaning"
   ]
  },
  {
   "cell_type": "code",
   "execution_count": 7,
   "metadata": {},
   "outputs": [
    {
     "data": {
      "text/plain": [
       "(3818, 73)"
      ]
     },
     "execution_count": 7,
     "metadata": {},
     "output_type": "execute_result"
    }
   ],
   "source": [
    "# dropping the columns not relevant to EDA\n",
    "\n",
    "df = df.drop(columns =[\"id\", \"listing_url\", \"scrape_id\", \"last_scraped\", \"name\", \"summary\", \"space\", \"description\", \n",
    "                             \"neighborhood_overview\", \"notes\", \"transit\", \"host_about\", \"thumbnail_url\", \n",
    "                                   \"medium_url\", \"picture_url\", \"xl_picture_url\", \"host_url\", \n",
    "                                           \"host_thumbnail_url\", \"host_picture_url\"], axis=1)\n",
    "\n",
    "df.shape"
   ]
  },
  {
   "cell_type": "code",
   "execution_count": 8,
   "metadata": {
    "scrolled": true
   },
   "outputs": [
    {
     "name": "stdout",
     "output_type": "stream",
     "text": [
      "Index(['host_id', 'host_listings_count', 'host_total_listings_count',\n",
      "       'latitude', 'longitude', 'accommodates', 'bathrooms', 'bedrooms',\n",
      "       'beds', 'square_feet', 'guests_included', 'minimum_nights',\n",
      "       'maximum_nights', 'availability_30', 'availability_60',\n",
      "       'availability_90', 'availability_365', 'number_of_reviews',\n",
      "       'review_scores_rating', 'review_scores_accuracy',\n",
      "       'review_scores_cleanliness', 'review_scores_checkin',\n",
      "       'review_scores_communication', 'review_scores_location',\n",
      "       'review_scores_value', 'license', 'calculated_host_listings_count',\n",
      "       'reviews_per_month'],\n",
      "      dtype='object') Index(['experiences_offered', 'host_name', 'host_since', 'host_location',\n",
      "       'host_response_time', 'host_response_rate', 'host_acceptance_rate',\n",
      "       'host_is_superhost', 'host_neighbourhood', 'host_verifications',\n",
      "       'host_has_profile_pic', 'host_identity_verified', 'street',\n",
      "       'neighbourhood', 'neighbourhood_cleansed',\n",
      "       'neighbourhood_group_cleansed', 'city', 'state', 'zipcode', 'market',\n",
      "       'smart_location', 'country_code', 'country', 'is_location_exact',\n",
      "       'property_type', 'room_type', 'bed_type', 'amenities', 'price',\n",
      "       'weekly_price', 'monthly_price', 'security_deposit', 'cleaning_fee',\n",
      "       'extra_people', 'calendar_updated', 'has_availability',\n",
      "       'calendar_last_scraped', 'first_review', 'last_review',\n",
      "       'requires_license', 'jurisdiction_names', 'instant_bookable',\n",
      "       'cancellation_policy', 'require_guest_profile_picture',\n",
      "       'require_guest_phone_verification'],\n",
      "      dtype='object')\n"
     ]
    }
   ],
   "source": [
    "# separating out the categorical vs numerical variables\n",
    "\n",
    "df_num = df.columns[df.dtypes != 'object']\n",
    "df_cat = df.columns[df.dtypes == 'object']\n",
    "\n",
    "print(df_num, df_cat)"
   ]
  },
  {
   "cell_type": "code",
   "execution_count": 9,
   "metadata": {
    "scrolled": true
   },
   "outputs": [
    {
     "data": {
      "text/plain": [
       "host_id                              0\n",
       "host_listings_count                  2\n",
       "host_total_listings_count            2\n",
       "latitude                             0\n",
       "longitude                            0\n",
       "accommodates                         0\n",
       "bathrooms                           16\n",
       "bedrooms                             6\n",
       "beds                                 1\n",
       "square_feet                       3721\n",
       "guests_included                      0\n",
       "minimum_nights                       0\n",
       "maximum_nights                       0\n",
       "availability_30                      0\n",
       "availability_60                      0\n",
       "availability_90                      0\n",
       "availability_365                     0\n",
       "number_of_reviews                    0\n",
       "review_scores_rating               647\n",
       "review_scores_accuracy             658\n",
       "review_scores_cleanliness          653\n",
       "review_scores_checkin              658\n",
       "review_scores_communication        651\n",
       "review_scores_location             655\n",
       "review_scores_value                656\n",
       "license                           3818\n",
       "calculated_host_listings_count       0\n",
       "reviews_per_month                  627\n",
       "dtype: int64"
      ]
     },
     "execution_count": 9,
     "metadata": {},
     "output_type": "execute_result"
    }
   ],
   "source": [
    "# checking missing values \n",
    "\n",
    "df[df_num].isnull().sum()"
   ]
  },
  {
   "cell_type": "code",
   "execution_count": 10,
   "metadata": {
    "scrolled": true
   },
   "outputs": [
    {
     "data": {
      "text/plain": [
       "experiences_offered                    0\n",
       "host_name                              2\n",
       "host_since                             2\n",
       "host_location                          8\n",
       "host_response_time                   523\n",
       "host_response_rate                   523\n",
       "host_acceptance_rate                 773\n",
       "host_is_superhost                      2\n",
       "host_neighbourhood                   300\n",
       "host_verifications                     0\n",
       "host_has_profile_pic                   2\n",
       "host_identity_verified                 2\n",
       "street                                 0\n",
       "neighbourhood                        416\n",
       "neighbourhood_cleansed                 0\n",
       "neighbourhood_group_cleansed           0\n",
       "city                                   0\n",
       "state                                  0\n",
       "zipcode                                7\n",
       "market                                 0\n",
       "smart_location                         0\n",
       "country_code                           0\n",
       "country                                0\n",
       "is_location_exact                      0\n",
       "property_type                          1\n",
       "room_type                              0\n",
       "bed_type                               0\n",
       "amenities                              0\n",
       "price                                  0\n",
       "weekly_price                        1809\n",
       "monthly_price                       2301\n",
       "security_deposit                    1952\n",
       "cleaning_fee                        1030\n",
       "extra_people                           0\n",
       "calendar_updated                       0\n",
       "has_availability                       0\n",
       "calendar_last_scraped                  0\n",
       "first_review                         627\n",
       "last_review                          627\n",
       "requires_license                       0\n",
       "jurisdiction_names                     0\n",
       "instant_bookable                       0\n",
       "cancellation_policy                    0\n",
       "require_guest_profile_picture          0\n",
       "require_guest_phone_verification       0\n",
       "dtype: int64"
      ]
     },
     "execution_count": 10,
     "metadata": {},
     "output_type": "execute_result"
    }
   ],
   "source": [
    "df[df_cat].isnull().sum()"
   ]
  },
  {
   "cell_type": "code",
   "execution_count": 11,
   "metadata": {},
   "outputs": [
    {
     "data": {
      "text/plain": [
       "(3818, 68)"
      ]
     },
     "execution_count": 11,
     "metadata": {},
     "output_type": "execute_result"
    }
   ],
   "source": [
    "# dropping the columns with huge null value %age\n",
    "\n",
    "df = df.drop(columns =[\"license\", \"square_feet\", \"monthly_price\", \"security_deposit\", \"weekly_price\"],\n",
    "             axis=1)\n",
    "df.shape"
   ]
  },
  {
   "cell_type": "code",
   "execution_count": 12,
   "metadata": {},
   "outputs": [],
   "source": [
    "# converting $ value to numeric values \n",
    "\n",
    "dollar = [\"price\", \"cleaning_fee\", \"extra_people\"]\n",
    "\n",
    "for elem in dollar:\n",
    "    df[elem] = df[elem].str.replace(',', '').str.replace('$', '').astype(float)"
   ]
  },
  {
   "cell_type": "code",
   "execution_count": 13,
   "metadata": {},
   "outputs": [],
   "source": [
    "# converting %ages to numeric values \n",
    "\n",
    "percent = [\"host_response_rate\", \"host_acceptance_rate\"]\n",
    "\n",
    "for elem in percent:\n",
    "    df[elem] = df[elem].str.replace('%', '').astype(float)"
   ]
  },
  {
   "cell_type": "code",
   "execution_count": 14,
   "metadata": {
    "scrolled": true
   },
   "outputs": [
    {
     "name": "stdout",
     "output_type": "stream",
     "text": [
      "Index(['host_id', 'host_response_rate', 'host_acceptance_rate',\n",
      "       'host_listings_count', 'host_total_listings_count', 'latitude',\n",
      "       'longitude', 'accommodates', 'bathrooms', 'bedrooms', 'beds', 'price',\n",
      "       'cleaning_fee', 'guests_included', 'extra_people', 'minimum_nights',\n",
      "       'maximum_nights', 'availability_30', 'availability_60',\n",
      "       'availability_90', 'availability_365', 'number_of_reviews',\n",
      "       'review_scores_rating', 'review_scores_accuracy',\n",
      "       'review_scores_cleanliness', 'review_scores_checkin',\n",
      "       'review_scores_communication', 'review_scores_location',\n",
      "       'review_scores_value', 'calculated_host_listings_count',\n",
      "       'reviews_per_month'],\n",
      "      dtype='object') Index(['experiences_offered', 'host_name', 'host_since', 'host_location',\n",
      "       'host_response_time', 'host_is_superhost', 'host_neighbourhood',\n",
      "       'host_verifications', 'host_has_profile_pic', 'host_identity_verified',\n",
      "       'street', 'neighbourhood', 'neighbourhood_cleansed',\n",
      "       'neighbourhood_group_cleansed', 'city', 'state', 'zipcode', 'market',\n",
      "       'smart_location', 'country_code', 'country', 'is_location_exact',\n",
      "       'property_type', 'room_type', 'bed_type', 'amenities',\n",
      "       'calendar_updated', 'has_availability', 'calendar_last_scraped',\n",
      "       'first_review', 'last_review', 'requires_license', 'jurisdiction_names',\n",
      "       'instant_bookable', 'cancellation_policy',\n",
      "       'require_guest_profile_picture', 'require_guest_phone_verification'],\n",
      "      dtype='object')\n"
     ]
    }
   ],
   "source": [
    "df_num = df.columns[df.dtypes != 'object']\n",
    "df_cat = df.columns[df.dtypes == 'object']\n",
    "\n",
    "print(df_num, df_cat)"
   ]
  },
  {
   "cell_type": "code",
   "execution_count": 15,
   "metadata": {},
   "outputs": [],
   "source": [
    "# converting date columns to datetime format \n",
    "\n",
    "date = [\"host_since\", \"calendar_last_scraped\", \"first_review\", \"last_review\"]\n",
    "\n",
    "for elem in date:\n",
    "    df[elem] = df[elem].apply(pd.to_datetime)"
   ]
  },
  {
   "cell_type": "code",
   "execution_count": 16,
   "metadata": {},
   "outputs": [
    {
     "data": {
      "text/plain": [
       "(3816, 68)"
      ]
     },
     "execution_count": 16,
     "metadata": {},
     "output_type": "execute_result"
    }
   ],
   "source": [
    "# dropping the rows with no host name\n",
    "\n",
    "df = df.dropna(subset = ['host_name'], how = 'any', axis=0)\n",
    "df.shape"
   ]
  },
  {
   "cell_type": "code",
   "execution_count": 17,
   "metadata": {},
   "outputs": [],
   "source": [
    "# finding out the since when the host has been the host\n",
    "\n",
    "df['delta_year_host'] = pd.DatetimeIndex(df['host_since']).year.astype(int)\n",
    "df['delta_month_host'] = pd.DatetimeIndex(df['host_since']).month.astype(int)\n",
    "df['delta_ym_host'] = pd.to_datetime(df['host_since']).dt.to_period('M')"
   ]
  },
  {
   "cell_type": "code",
   "execution_count": 18,
   "metadata": {},
   "outputs": [],
   "source": [
    "# convert zip to numeric\n",
    "\n",
    "df['zipcode'] = pd.to_numeric(df['zipcode'], errors='coerce')\n",
    "df = df.dropna(subset = ['zipcode'], how = 'any', axis = 0)\n",
    "df['zipcode'] = df['zipcode'].astype(int) "
   ]
  },
  {
   "cell_type": "code",
   "execution_count": 19,
   "metadata": {},
   "outputs": [
    {
     "data": {
      "text/plain": [
       "numpy.int64"
      ]
     },
     "execution_count": 19,
     "metadata": {},
     "output_type": "execute_result"
    }
   ],
   "source": [
    "type(df['zipcode'][0])"
   ]
  },
  {
   "cell_type": "code",
   "execution_count": 20,
   "metadata": {
    "scrolled": true
   },
   "outputs": [
    {
     "data": {
      "text/plain": [
       "host_id                              0\n",
       "host_response_rate                 519\n",
       "host_acceptance_rate               768\n",
       "host_listings_count                  0\n",
       "host_total_listings_count            0\n",
       "latitude                             0\n",
       "longitude                            0\n",
       "accommodates                         0\n",
       "bathrooms                           16\n",
       "bedrooms                             6\n",
       "beds                                 1\n",
       "price                                0\n",
       "cleaning_fee                      1025\n",
       "guests_included                      0\n",
       "extra_people                         0\n",
       "minimum_nights                       0\n",
       "maximum_nights                       0\n",
       "availability_30                      0\n",
       "availability_60                      0\n",
       "availability_90                      0\n",
       "availability_365                     0\n",
       "number_of_reviews                    0\n",
       "review_scores_rating               644\n",
       "review_scores_accuracy             655\n",
       "review_scores_cleanliness          650\n",
       "review_scores_checkin              655\n",
       "review_scores_communication        648\n",
       "review_scores_location             652\n",
       "review_scores_value                653\n",
       "calculated_host_listings_count       0\n",
       "reviews_per_month                  624\n",
       "dtype: int64"
      ]
     },
     "execution_count": 20,
     "metadata": {},
     "output_type": "execute_result"
    }
   ],
   "source": [
    "df[df_num].isnull().sum()"
   ]
  },
  {
   "cell_type": "code",
   "execution_count": 21,
   "metadata": {
    "scrolled": true
   },
   "outputs": [
    {
     "data": {
      "text/plain": [
       "experiences_offered                   0\n",
       "host_name                             0\n",
       "host_since                            0\n",
       "host_location                         6\n",
       "host_response_time                  519\n",
       "host_is_superhost                     0\n",
       "host_neighbourhood                  295\n",
       "host_verifications                    0\n",
       "host_has_profile_pic                  0\n",
       "host_identity_verified                0\n",
       "street                                0\n",
       "neighbourhood                       412\n",
       "neighbourhood_cleansed                0\n",
       "neighbourhood_group_cleansed          0\n",
       "city                                  0\n",
       "state                                 0\n",
       "zipcode                               0\n",
       "market                                0\n",
       "smart_location                        0\n",
       "country_code                          0\n",
       "country                               0\n",
       "is_location_exact                     0\n",
       "property_type                         1\n",
       "room_type                             0\n",
       "bed_type                              0\n",
       "amenities                             0\n",
       "calendar_updated                      0\n",
       "has_availability                      0\n",
       "calendar_last_scraped                 0\n",
       "first_review                        624\n",
       "last_review                         624\n",
       "requires_license                      0\n",
       "jurisdiction_names                    0\n",
       "instant_bookable                      0\n",
       "cancellation_policy                   0\n",
       "require_guest_profile_picture         0\n",
       "require_guest_phone_verification      0\n",
       "dtype: int64"
      ]
     },
     "execution_count": 21,
     "metadata": {},
     "output_type": "execute_result"
    }
   ],
   "source": [
    "df[df_cat].isnull().sum()"
   ]
  },
  {
   "cell_type": "code",
   "execution_count": 22,
   "metadata": {},
   "outputs": [],
   "source": [
    "# filling missing values with mean \n",
    "\n",
    "fill = lambda elem: elem.fillna(elem.mean())\n",
    "df[df_num] = df[df_num].apply(fill)"
   ]
  },
  {
   "cell_type": "code",
   "execution_count": 23,
   "metadata": {},
   "outputs": [],
   "source": [
    "# filling missing values for categorical variables with string\n",
    "\n",
    "df[df_cat] = df[df_cat].fillna('Missing')"
   ]
  },
  {
   "cell_type": "code",
   "execution_count": 24,
   "metadata": {
    "scrolled": true
   },
   "outputs": [
    {
     "data": {
      "text/html": [
       "<div>\n",
       "<style scoped>\n",
       "    .dataframe tbody tr th:only-of-type {\n",
       "        vertical-align: middle;\n",
       "    }\n",
       "\n",
       "    .dataframe tbody tr th {\n",
       "        vertical-align: top;\n",
       "    }\n",
       "\n",
       "    .dataframe thead th {\n",
       "        text-align: right;\n",
       "    }\n",
       "</style>\n",
       "<table border=\"1\" class=\"dataframe\">\n",
       "  <thead>\n",
       "    <tr style=\"text-align: right;\">\n",
       "      <th></th>\n",
       "      <th>experiences_offered</th>\n",
       "      <th>host_id</th>\n",
       "      <th>host_name</th>\n",
       "      <th>host_since</th>\n",
       "      <th>host_location</th>\n",
       "      <th>host_response_time</th>\n",
       "      <th>host_response_rate</th>\n",
       "      <th>host_acceptance_rate</th>\n",
       "      <th>host_is_superhost</th>\n",
       "      <th>host_neighbourhood</th>\n",
       "      <th>...</th>\n",
       "      <th>jurisdiction_names</th>\n",
       "      <th>instant_bookable</th>\n",
       "      <th>cancellation_policy</th>\n",
       "      <th>require_guest_profile_picture</th>\n",
       "      <th>require_guest_phone_verification</th>\n",
       "      <th>calculated_host_listings_count</th>\n",
       "      <th>reviews_per_month</th>\n",
       "      <th>delta_year_host</th>\n",
       "      <th>delta_month_host</th>\n",
       "      <th>delta_ym_host</th>\n",
       "    </tr>\n",
       "  </thead>\n",
       "  <tbody>\n",
       "    <tr>\n",
       "      <th>0</th>\n",
       "      <td>none</td>\n",
       "      <td>956883</td>\n",
       "      <td>Maija</td>\n",
       "      <td>2011-08-11</td>\n",
       "      <td>Seattle, Washington, United States</td>\n",
       "      <td>within a few hours</td>\n",
       "      <td>96.000000</td>\n",
       "      <td>100.000000</td>\n",
       "      <td>f</td>\n",
       "      <td>Queen Anne</td>\n",
       "      <td>...</td>\n",
       "      <td>WASHINGTON</td>\n",
       "      <td>f</td>\n",
       "      <td>moderate</td>\n",
       "      <td>f</td>\n",
       "      <td>f</td>\n",
       "      <td>2</td>\n",
       "      <td>4.070000</td>\n",
       "      <td>2011</td>\n",
       "      <td>8</td>\n",
       "      <td>2011-08</td>\n",
       "    </tr>\n",
       "    <tr>\n",
       "      <th>1</th>\n",
       "      <td>none</td>\n",
       "      <td>5177328</td>\n",
       "      <td>Andrea</td>\n",
       "      <td>2013-02-21</td>\n",
       "      <td>Seattle, Washington, United States</td>\n",
       "      <td>within an hour</td>\n",
       "      <td>98.000000</td>\n",
       "      <td>100.000000</td>\n",
       "      <td>t</td>\n",
       "      <td>Queen Anne</td>\n",
       "      <td>...</td>\n",
       "      <td>WASHINGTON</td>\n",
       "      <td>f</td>\n",
       "      <td>strict</td>\n",
       "      <td>t</td>\n",
       "      <td>t</td>\n",
       "      <td>6</td>\n",
       "      <td>1.480000</td>\n",
       "      <td>2013</td>\n",
       "      <td>2</td>\n",
       "      <td>2013-02</td>\n",
       "    </tr>\n",
       "    <tr>\n",
       "      <th>2</th>\n",
       "      <td>none</td>\n",
       "      <td>16708587</td>\n",
       "      <td>Jill</td>\n",
       "      <td>2014-06-12</td>\n",
       "      <td>Seattle, Washington, United States</td>\n",
       "      <td>within a few hours</td>\n",
       "      <td>67.000000</td>\n",
       "      <td>100.000000</td>\n",
       "      <td>f</td>\n",
       "      <td>Queen Anne</td>\n",
       "      <td>...</td>\n",
       "      <td>WASHINGTON</td>\n",
       "      <td>f</td>\n",
       "      <td>strict</td>\n",
       "      <td>f</td>\n",
       "      <td>f</td>\n",
       "      <td>2</td>\n",
       "      <td>1.150000</td>\n",
       "      <td>2014</td>\n",
       "      <td>6</td>\n",
       "      <td>2014-06</td>\n",
       "    </tr>\n",
       "    <tr>\n",
       "      <th>3</th>\n",
       "      <td>none</td>\n",
       "      <td>9851441</td>\n",
       "      <td>Emily</td>\n",
       "      <td>2013-11-06</td>\n",
       "      <td>Seattle, Washington, United States</td>\n",
       "      <td>Missing</td>\n",
       "      <td>94.890544</td>\n",
       "      <td>99.967105</td>\n",
       "      <td>f</td>\n",
       "      <td>Queen Anne</td>\n",
       "      <td>...</td>\n",
       "      <td>WASHINGTON</td>\n",
       "      <td>f</td>\n",
       "      <td>flexible</td>\n",
       "      <td>f</td>\n",
       "      <td>f</td>\n",
       "      <td>1</td>\n",
       "      <td>2.078323</td>\n",
       "      <td>2013</td>\n",
       "      <td>11</td>\n",
       "      <td>2013-11</td>\n",
       "    </tr>\n",
       "    <tr>\n",
       "      <th>4</th>\n",
       "      <td>none</td>\n",
       "      <td>1452570</td>\n",
       "      <td>Emily</td>\n",
       "      <td>2011-11-29</td>\n",
       "      <td>Seattle, Washington, United States</td>\n",
       "      <td>within an hour</td>\n",
       "      <td>100.000000</td>\n",
       "      <td>99.967105</td>\n",
       "      <td>f</td>\n",
       "      <td>Queen Anne</td>\n",
       "      <td>...</td>\n",
       "      <td>WASHINGTON</td>\n",
       "      <td>f</td>\n",
       "      <td>strict</td>\n",
       "      <td>f</td>\n",
       "      <td>f</td>\n",
       "      <td>1</td>\n",
       "      <td>0.890000</td>\n",
       "      <td>2011</td>\n",
       "      <td>11</td>\n",
       "      <td>2011-11</td>\n",
       "    </tr>\n",
       "    <tr>\n",
       "      <th>5</th>\n",
       "      <td>none</td>\n",
       "      <td>326758</td>\n",
       "      <td>Andrew</td>\n",
       "      <td>2010-12-25</td>\n",
       "      <td>Seattle, Washington, United States</td>\n",
       "      <td>Missing</td>\n",
       "      <td>94.890544</td>\n",
       "      <td>99.967105</td>\n",
       "      <td>f</td>\n",
       "      <td>Queen Anne</td>\n",
       "      <td>...</td>\n",
       "      <td>WASHINGTON</td>\n",
       "      <td>f</td>\n",
       "      <td>strict</td>\n",
       "      <td>f</td>\n",
       "      <td>f</td>\n",
       "      <td>1</td>\n",
       "      <td>2.450000</td>\n",
       "      <td>2010</td>\n",
       "      <td>12</td>\n",
       "      <td>2010-12</td>\n",
       "    </tr>\n",
       "    <tr>\n",
       "      <th>6</th>\n",
       "      <td>none</td>\n",
       "      <td>2497928</td>\n",
       "      <td>Gary And Beth</td>\n",
       "      <td>2012-05-30</td>\n",
       "      <td>Seattle, Washington, United States</td>\n",
       "      <td>within an hour</td>\n",
       "      <td>100.000000</td>\n",
       "      <td>100.000000</td>\n",
       "      <td>t</td>\n",
       "      <td>Queen Anne</td>\n",
       "      <td>...</td>\n",
       "      <td>WASHINGTON</td>\n",
       "      <td>f</td>\n",
       "      <td>moderate</td>\n",
       "      <td>f</td>\n",
       "      <td>f</td>\n",
       "      <td>1</td>\n",
       "      <td>2.460000</td>\n",
       "      <td>2012</td>\n",
       "      <td>5</td>\n",
       "      <td>2012-05</td>\n",
       "    </tr>\n",
       "    <tr>\n",
       "      <th>7</th>\n",
       "      <td>none</td>\n",
       "      <td>4016632</td>\n",
       "      <td>Jean-Marc</td>\n",
       "      <td>2012-10-30</td>\n",
       "      <td>Seattle, Washington, United States</td>\n",
       "      <td>within an hour</td>\n",
       "      <td>100.000000</td>\n",
       "      <td>100.000000</td>\n",
       "      <td>t</td>\n",
       "      <td>Queen Anne</td>\n",
       "      <td>...</td>\n",
       "      <td>WASHINGTON</td>\n",
       "      <td>f</td>\n",
       "      <td>strict</td>\n",
       "      <td>t</td>\n",
       "      <td>t</td>\n",
       "      <td>5</td>\n",
       "      <td>4.730000</td>\n",
       "      <td>2012</td>\n",
       "      <td>10</td>\n",
       "      <td>2012-10</td>\n",
       "    </tr>\n",
       "    <tr>\n",
       "      <th>8</th>\n",
       "      <td>none</td>\n",
       "      <td>2166277</td>\n",
       "      <td>Aliza</td>\n",
       "      <td>2012-04-18</td>\n",
       "      <td>Seattle, Washington, United States</td>\n",
       "      <td>Missing</td>\n",
       "      <td>94.890544</td>\n",
       "      <td>100.000000</td>\n",
       "      <td>f</td>\n",
       "      <td>Queen Anne</td>\n",
       "      <td>...</td>\n",
       "      <td>WASHINGTON</td>\n",
       "      <td>f</td>\n",
       "      <td>strict</td>\n",
       "      <td>f</td>\n",
       "      <td>f</td>\n",
       "      <td>1</td>\n",
       "      <td>1.220000</td>\n",
       "      <td>2012</td>\n",
       "      <td>4</td>\n",
       "      <td>2012-04</td>\n",
       "    </tr>\n",
       "    <tr>\n",
       "      <th>9</th>\n",
       "      <td>none</td>\n",
       "      <td>5177328</td>\n",
       "      <td>Andrea</td>\n",
       "      <td>2013-02-21</td>\n",
       "      <td>Seattle, Washington, United States</td>\n",
       "      <td>within an hour</td>\n",
       "      <td>98.000000</td>\n",
       "      <td>100.000000</td>\n",
       "      <td>t</td>\n",
       "      <td>Queen Anne</td>\n",
       "      <td>...</td>\n",
       "      <td>WASHINGTON</td>\n",
       "      <td>f</td>\n",
       "      <td>strict</td>\n",
       "      <td>t</td>\n",
       "      <td>t</td>\n",
       "      <td>6</td>\n",
       "      <td>1.550000</td>\n",
       "      <td>2013</td>\n",
       "      <td>2</td>\n",
       "      <td>2013-02</td>\n",
       "    </tr>\n",
       "  </tbody>\n",
       "</table>\n",
       "<p>10 rows × 71 columns</p>\n",
       "</div>"
      ],
      "text/plain": [
       "  experiences_offered   host_id      host_name host_since  \\\n",
       "0                none    956883          Maija 2011-08-11   \n",
       "1                none   5177328         Andrea 2013-02-21   \n",
       "2                none  16708587           Jill 2014-06-12   \n",
       "3                none   9851441          Emily 2013-11-06   \n",
       "4                none   1452570          Emily 2011-11-29   \n",
       "5                none    326758         Andrew 2010-12-25   \n",
       "6                none   2497928  Gary And Beth 2012-05-30   \n",
       "7                none   4016632      Jean-Marc 2012-10-30   \n",
       "8                none   2166277          Aliza 2012-04-18   \n",
       "9                none   5177328         Andrea 2013-02-21   \n",
       "\n",
       "                        host_location  host_response_time  host_response_rate  \\\n",
       "0  Seattle, Washington, United States  within a few hours           96.000000   \n",
       "1  Seattle, Washington, United States      within an hour           98.000000   \n",
       "2  Seattle, Washington, United States  within a few hours           67.000000   \n",
       "3  Seattle, Washington, United States             Missing           94.890544   \n",
       "4  Seattle, Washington, United States      within an hour          100.000000   \n",
       "5  Seattle, Washington, United States             Missing           94.890544   \n",
       "6  Seattle, Washington, United States      within an hour          100.000000   \n",
       "7  Seattle, Washington, United States      within an hour          100.000000   \n",
       "8  Seattle, Washington, United States             Missing           94.890544   \n",
       "9  Seattle, Washington, United States      within an hour           98.000000   \n",
       "\n",
       "   host_acceptance_rate host_is_superhost host_neighbourhood  ...  \\\n",
       "0            100.000000                 f         Queen Anne  ...   \n",
       "1            100.000000                 t         Queen Anne  ...   \n",
       "2            100.000000                 f         Queen Anne  ...   \n",
       "3             99.967105                 f         Queen Anne  ...   \n",
       "4             99.967105                 f         Queen Anne  ...   \n",
       "5             99.967105                 f         Queen Anne  ...   \n",
       "6            100.000000                 t         Queen Anne  ...   \n",
       "7            100.000000                 t         Queen Anne  ...   \n",
       "8            100.000000                 f         Queen Anne  ...   \n",
       "9            100.000000                 t         Queen Anne  ...   \n",
       "\n",
       "   jurisdiction_names  instant_bookable cancellation_policy  \\\n",
       "0          WASHINGTON                 f            moderate   \n",
       "1          WASHINGTON                 f              strict   \n",
       "2          WASHINGTON                 f              strict   \n",
       "3          WASHINGTON                 f            flexible   \n",
       "4          WASHINGTON                 f              strict   \n",
       "5          WASHINGTON                 f              strict   \n",
       "6          WASHINGTON                 f            moderate   \n",
       "7          WASHINGTON                 f              strict   \n",
       "8          WASHINGTON                 f              strict   \n",
       "9          WASHINGTON                 f              strict   \n",
       "\n",
       "  require_guest_profile_picture require_guest_phone_verification  \\\n",
       "0                             f                                f   \n",
       "1                             t                                t   \n",
       "2                             f                                f   \n",
       "3                             f                                f   \n",
       "4                             f                                f   \n",
       "5                             f                                f   \n",
       "6                             f                                f   \n",
       "7                             t                                t   \n",
       "8                             f                                f   \n",
       "9                             t                                t   \n",
       "\n",
       "  calculated_host_listings_count reviews_per_month delta_year_host  \\\n",
       "0                              2          4.070000            2011   \n",
       "1                              6          1.480000            2013   \n",
       "2                              2          1.150000            2014   \n",
       "3                              1          2.078323            2013   \n",
       "4                              1          0.890000            2011   \n",
       "5                              1          2.450000            2010   \n",
       "6                              1          2.460000            2012   \n",
       "7                              5          4.730000            2012   \n",
       "8                              1          1.220000            2012   \n",
       "9                              6          1.550000            2013   \n",
       "\n",
       "  delta_month_host delta_ym_host  \n",
       "0                8       2011-08  \n",
       "1                2       2013-02  \n",
       "2                6       2014-06  \n",
       "3               11       2013-11  \n",
       "4               11       2011-11  \n",
       "5               12       2010-12  \n",
       "6                5       2012-05  \n",
       "7               10       2012-10  \n",
       "8                4       2012-04  \n",
       "9                2       2013-02  \n",
       "\n",
       "[10 rows x 71 columns]"
      ]
     },
     "execution_count": 24,
     "metadata": {},
     "output_type": "execute_result"
    }
   ],
   "source": [
    "df.head(10)"
   ]
  },
  {
   "cell_type": "code",
   "execution_count": 25,
   "metadata": {},
   "outputs": [],
   "source": [
    "df = df.drop(columns =['experiences_offered', 'jurisdiction_names'], axis=1)"
   ]
  },
  {
   "cell_type": "markdown",
   "metadata": {},
   "source": [
    "## Exploratory Data Analysis"
   ]
  },
  {
   "cell_type": "markdown",
   "metadata": {},
   "source": [
    "#### Question 1: What are the top 10 neighborhoods in Seattle with most number of hosts and super hosts?"
   ]
  },
  {
   "cell_type": "code",
   "execution_count": 26,
   "metadata": {},
   "outputs": [
    {
     "data": {
      "image/png": "[encoded data removed]",
      "text/plain": [
       "<Figure size 432x288 with 1 Axes>"
      ]
     },
     "metadata": {
      "needs_background": "light"
     },
     "output_type": "display_data"
    }
   ],
   "source": [
    "host = df.groupby('neighbourhood_cleansed')['host_id'].count().sort_values(ascending=False)[:10].plot(kind = 'bar')"
   ]
  },
  {
   "cell_type": "code",
   "execution_count": 27,
   "metadata": {},
   "outputs": [
    {
     "data": {
      "image/png": "[encoded data removed]",
      "text/plain": [
       "<Figure size 432x288 with 1 Axes>"
      ]
     },
     "metadata": {
      "needs_background": "light"
     },
     "output_type": "display_data"
    }
   ],
   "source": [
    "superHost = df[df['host_is_superhost'] == 't'].groupby('neighbourhood_cleansed')[\n",
    "                                                         'host_id'].count().sort_values(ascending=False)[:10].plot(kind = 'bar')"
   ]
  },
  {
   "cell_type": "markdown",
   "metadata": {},
   "source": [
    "The areas with top 2 hosts also have top 2 superhosts"
   ]
  },
  {
   "cell_type": "markdown",
   "metadata": {},
   "source": [
    "#### Question 2: What are the top 10 neighborhoods in Seattle with the highest avg listing price?"
   ]
  },
  {
   "cell_type": "code",
   "execution_count": 28,
   "metadata": {},
   "outputs": [
    {
     "data": {
      "image/png": "[encoded data removed]",
      "text/plain": [
       "<Figure size 432x288 with 1 Axes>"
      ]
     },
     "metadata": {
      "needs_background": "light"
     },
     "output_type": "display_data"
    }
   ],
   "source": [
    "price = df.groupby('neighbourhood_cleansed')['price'].mean().sort_values(ascending=False)[:10].plot(kind = 'bar')"
   ]
  },
  {
   "cell_type": "markdown",
   "metadata": {},
   "source": [
    "#### Question 3: What is the % breakdown of property types in Seattle in the listings database?"
   ]
  },
  {
   "cell_type": "code",
   "execution_count": 29,
   "metadata": {},
   "outputs": [
    {
     "data": {
      "text/plain": [
       "<matplotlib.axes._subplots.AxesSubplot at 0x7f979106d790>"
      ]
     },
     "execution_count": 29,
     "metadata": {},
     "output_type": "execute_result"
    },
    {
     "data": {
      "image/png": "[encoded data removed]",
      "text/plain": [
       "<Figure size 432x288 with 1 Axes>"
      ]
     },
     "metadata": {
      "needs_background": "light"
     },
     "output_type": "display_data"
    }
   ],
   "source": [
    "k = df['property_type'].value_counts()/len(df['property_type'])*100\n",
    "k.plot(kind = 'bar')"
   ]
  },
  {
   "cell_type": "markdown",
   "metadata": {},
   "source": [
    "#### Ques 4: What % of listings are for entire place compared to private or share rooms in listings database?"
   ]
  },
  {
   "cell_type": "code",
   "execution_count": 30,
   "metadata": {},
   "outputs": [
    {
     "data": {
      "text/plain": [
       "Entire home/apt    66.570378\n",
       "Private room       30.357143\n",
       "Shared room         3.072479\n",
       "Name: room_type, dtype: float64"
      ]
     },
     "execution_count": 30,
     "metadata": {},
     "output_type": "execute_result"
    }
   ],
   "source": [
    "k = df['room_type'].value_counts()/len(df['room_type'])*100\n",
    "k"
   ]
  },
  {
   "cell_type": "code",
   "execution_count": 31,
   "metadata": {
    "scrolled": false
   },
   "outputs": [
    {
     "data": {
      "text/plain": [
       "<matplotlib.axes._subplots.AxesSubplot at 0x7f9790da8210>"
      ]
     },
     "execution_count": 31,
     "metadata": {},
     "output_type": "execute_result"
    },
    {
     "data": {
      "image/png": "[encoded data removed]",
      "text/plain": [
       "<Figure size 432x288 with 1 Axes>"
      ]
     },
     "metadata": {
      "needs_background": "light"
     },
     "output_type": "display_data"
    }
   ],
   "source": [
    "k.plot(kind = 'bar')"
   ]
  },
  {
   "cell_type": "markdown",
   "metadata": {},
   "source": [
    "#### Question 5: Are the number of hosts increasing every year in Seattle?"
   ]
  },
  {
   "cell_type": "code",
   "execution_count": 32,
   "metadata": {},
   "outputs": [
    {
     "data": {
      "text/plain": [
       "2008      4\n",
       "2009     64\n",
       "2010    149\n",
       "2011    397\n",
       "2012    537\n",
       "2013    775\n",
       "2014    897\n",
       "2015    980\n",
       "2016      5\n",
       "Name: delta_year_host, dtype: int64"
      ]
     },
     "execution_count": 32,
     "metadata": {},
     "output_type": "execute_result"
    }
   ],
   "source": [
    "count = df['delta_year_host'].value_counts().sort_index()\n",
    "count"
   ]
  },
  {
   "cell_type": "code",
   "execution_count": 33,
   "metadata": {},
   "outputs": [
    {
     "data": {
      "text/plain": [
       "<matplotlib.axes._subplots.AxesSubplot at 0x7f979129fbd0>"
      ]
     },
     "execution_count": 33,
     "metadata": {},
     "output_type": "execute_result"
    },
    {
     "data": {
      "image/png": "[encoded data removed]",
      "text/plain": [
       "<Figure size 432x288 with 1 Axes>"
      ]
     },
     "metadata": {
      "needs_background": "light"
     },
     "output_type": "display_data"
    }
   ],
   "source": [
    "count.plot(kind = 'bar')\n",
    "\n",
    "# data is not available for the entire starting and ending year that's why we see 2008 and 2016 having low count"
   ]
  },
  {
   "cell_type": "code",
   "execution_count": 34,
   "metadata": {},
   "outputs": [
    {
     "data": {
      "text/plain": [
       "1     271\n",
       "2     271\n",
       "3     298\n",
       "4     278\n",
       "5     351\n",
       "6     296\n",
       "7     413\n",
       "8     490\n",
       "9     329\n",
       "10    312\n",
       "11    291\n",
       "12    208\n",
       "Name: delta_month_host, dtype: int64"
      ]
     },
     "execution_count": 34,
     "metadata": {},
     "output_type": "execute_result"
    }
   ],
   "source": [
    "# checking the monthly trend\n",
    "\n",
    "count = df['delta_month_host'].value_counts().sort_index()\n",
    "count"
   ]
  },
  {
   "cell_type": "code",
   "execution_count": 35,
   "metadata": {},
   "outputs": [
    {
     "data": {
      "text/plain": [
       "<matplotlib.axes._subplots.AxesSubplot at 0x7f97913d46d0>"
      ]
     },
     "execution_count": 35,
     "metadata": {},
     "output_type": "execute_result"
    },
    {
     "data": {
      "image/png": "[encoded data removed]",
      "text/plain": [
       "<Figure size 432x288 with 1 Axes>"
      ]
     },
     "metadata": {
      "needs_background": "light"
     },
     "output_type": "display_data"
    }
   ],
   "source": [
    "count.plot(kind = 'bar')"
   ]
  },
  {
   "cell_type": "markdown",
   "metadata": {},
   "source": [
    "#### Question 6: What is the probable price for a room based on the neighbourhood?"
   ]
  },
  {
   "cell_type": "code",
   "execution_count": 36,
   "metadata": {},
   "outputs": [
    {
     "data": {
      "text/html": [
       "<div>\n",
       "<style scoped>\n",
       "    .dataframe tbody tr th:only-of-type {\n",
       "        vertical-align: middle;\n",
       "    }\n",
       "\n",
       "    .dataframe tbody tr th {\n",
       "        vertical-align: top;\n",
       "    }\n",
       "\n",
       "    .dataframe thead th {\n",
       "        text-align: right;\n",
       "    }\n",
       "</style>\n",
       "<table border=\"1\" class=\"dataframe\">\n",
       "  <thead>\n",
       "    <tr style=\"text-align: right;\">\n",
       "      <th></th>\n",
       "      <th>neighbourhood_group_cleansed</th>\n",
       "      <th>property_type</th>\n",
       "      <th>price</th>\n",
       "    </tr>\n",
       "  </thead>\n",
       "  <tbody>\n",
       "    <tr>\n",
       "      <th>0</th>\n",
       "      <td>Ballard</td>\n",
       "      <td>Apartment</td>\n",
       "      <td>108.066667</td>\n",
       "    </tr>\n",
       "    <tr>\n",
       "      <th>1</th>\n",
       "      <td>Ballard</td>\n",
       "      <td>Bed &amp; Breakfast</td>\n",
       "      <td>84.500000</td>\n",
       "    </tr>\n",
       "    <tr>\n",
       "      <th>2</th>\n",
       "      <td>Ballard</td>\n",
       "      <td>Boat</td>\n",
       "      <td>75.000000</td>\n",
       "    </tr>\n",
       "    <tr>\n",
       "      <th>3</th>\n",
       "      <td>Ballard</td>\n",
       "      <td>Bungalow</td>\n",
       "      <td>85.000000</td>\n",
       "    </tr>\n",
       "    <tr>\n",
       "      <th>4</th>\n",
       "      <td>Ballard</td>\n",
       "      <td>Cabin</td>\n",
       "      <td>89.000000</td>\n",
       "    </tr>\n",
       "    <tr>\n",
       "      <th>5</th>\n",
       "      <td>Ballard</td>\n",
       "      <td>Camper/RV</td>\n",
       "      <td>75.000000</td>\n",
       "    </tr>\n",
       "    <tr>\n",
       "      <th>6</th>\n",
       "      <td>Ballard</td>\n",
       "      <td>Condominium</td>\n",
       "      <td>88.333333</td>\n",
       "    </tr>\n",
       "    <tr>\n",
       "      <th>7</th>\n",
       "      <td>Ballard</td>\n",
       "      <td>House</td>\n",
       "      <td>135.979310</td>\n",
       "    </tr>\n",
       "    <tr>\n",
       "      <th>8</th>\n",
       "      <td>Ballard</td>\n",
       "      <td>Loft</td>\n",
       "      <td>82.000000</td>\n",
       "    </tr>\n",
       "    <tr>\n",
       "      <th>9</th>\n",
       "      <td>Ballard</td>\n",
       "      <td>Townhouse</td>\n",
       "      <td>106.272727</td>\n",
       "    </tr>\n",
       "  </tbody>\n",
       "</table>\n",
       "</div>"
      ],
      "text/plain": [
       "  neighbourhood_group_cleansed    property_type       price\n",
       "0                      Ballard        Apartment  108.066667\n",
       "1                      Ballard  Bed & Breakfast   84.500000\n",
       "2                      Ballard             Boat   75.000000\n",
       "3                      Ballard         Bungalow   85.000000\n",
       "4                      Ballard            Cabin   89.000000\n",
       "5                      Ballard        Camper/RV   75.000000\n",
       "6                      Ballard      Condominium   88.333333\n",
       "7                      Ballard            House  135.979310\n",
       "8                      Ballard             Loft   82.000000\n",
       "9                      Ballard        Townhouse  106.272727"
      ]
     },
     "execution_count": 36,
     "metadata": {},
     "output_type": "execute_result"
    }
   ],
   "source": [
    "avg_price_neighbourhood = df.groupby(['neighbourhood_group_cleansed','property_type'])['price'].mean().reset_index()\n",
    "avg_price_neighbourhood.head(10)"
   ]
  },
  {
   "cell_type": "code",
   "execution_count": 37,
   "metadata": {},
   "outputs": [
    {
     "data": {
      "text/plain": [
       "<matplotlib.axes._subplots.AxesSubplot at 0x7f9791819f50>"
      ]
     },
     "execution_count": 37,
     "metadata": {},
     "output_type": "execute_result"
    },
    {
     "data": {
      "image/png": "[encoded data removed]",
      "text/plain": [
       "<Figure size 432x288 with 1 Axes>"
      ]
     },
     "metadata": {
      "needs_background": "light"
     },
     "output_type": "display_data"
    }
   ],
   "source": [
    "avg_price_neighbourhood.groupby('neighbourhood_group_cleansed').price.mean().sort_values().plot(kind = 'bar')"
   ]
  },
  {
   "cell_type": "code",
   "execution_count": 38,
   "metadata": {},
   "outputs": [],
   "source": [
    "# Add inference for the plot"
   ]
  },
  {
   "cell_type": "markdown",
   "metadata": {},
   "source": [
    "#### Question 7: What is the relationship between price and amenities?"
   ]
  },
  {
   "cell_type": "code",
   "execution_count": 39,
   "metadata": {},
   "outputs": [],
   "source": [
    "df.amenities = df.amenities.str.replace('\"', '', regex=False)\n",
    "df.amenities = df.amenities.str.replace('{', '', regex=False)\n",
    "df.amenities = df.amenities.str.replace('}', '', regex=False).str.split(\",\")"
   ]
  },
  {
   "cell_type": "code",
   "execution_count": 40,
   "metadata": {},
   "outputs": [],
   "source": [
    "df['amenities_count'] = df['amenities'].str.len()"
   ]
  },
  {
   "cell_type": "code",
   "execution_count": 41,
   "metadata": {},
   "outputs": [
    {
     "data": {
      "text/plain": [
       "<matplotlib.axes._subplots.AxesSubplot at 0x7f97920bab10>"
      ]
     },
     "execution_count": 41,
     "metadata": {},
     "output_type": "execute_result"
    },
    {
     "data": {
      "image/png": "[encoded data removed]",
      "text/plain": [
       "<Figure size 432x288 with 1 Axes>"
      ]
     },
     "metadata": {
      "needs_background": "light"
     },
     "output_type": "display_data"
    }
   ],
   "source": [
    "df2 = df.groupby(['amenities_count'])['price'].mean().sort_values().reset_index()\n",
    "df2.sort_values(by = 'amenities_count').set_index('amenities_count').plot(kind = 'bar')"
   ]
  },
  {
   "cell_type": "code",
   "execution_count": 42,
   "metadata": {},
   "outputs": [
    {
     "data": {
      "text/plain": [
       "<matplotlib.axes._subplots.AxesSubplot at 0x7f9791bba8d0>"
      ]
     },
     "execution_count": 42,
     "metadata": {},
     "output_type": "execute_result"
    },
    {
     "data": {
      "image/png": "[encoded data removed]",
      "text/plain": [
       "<Figure size 432x288 with 1 Axes>"
      ]
     },
     "metadata": {
      "needs_background": "light"
     },
     "output_type": "display_data"
    }
   ],
   "source": [
    "df2 = df.groupby(['amenities_count'])['price'].max().sort_values().reset_index()\n",
    "df2.sort_values(by = 'amenities_count').set_index('amenities_count').plot(kind = 'bar')"
   ]
  },
  {
   "cell_type": "markdown",
   "metadata": {},
   "source": [
    "-- THE END --"
   ]
  }
 ],
 "metadata": {
  "kernelspec": {
   "display_name": "Python 3",
   "language": "python",
   "name": "python3"
  },
  "language_info": {
   "codemirror_mode": {
    "name": "ipython",
    "version": 3
   },
   "file_extension": ".py",
   "mimetype": "text/x-python",
   "name": "python",
   "nbconvert_exporter": "python",
   "pygments_lexer": "ipython3",
   "version": "3.7.6"
  }
 },
 "nbformat": 4,
 "nbformat_minor": 4
}
